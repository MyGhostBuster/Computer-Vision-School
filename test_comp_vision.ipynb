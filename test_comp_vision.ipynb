{
 "cells": [
  {
   "cell_type": "code",
   "execution_count": null,
   "metadata": {
    "collapsed": true
   },
   "outputs": [],
   "source": [
    "import random\n",
    "from PIL import Image,ImageOps,ImageDraw\n",
    "import glob\n",
    "import os"
   ]
  },
  {
   "cell_type": "markdown",
   "metadata": {},
   "source": [
    "## The main task 1"
   ]
  },
  {
   "cell_type": "code",
   "execution_count": null,
   "metadata": {},
   "outputs": [],
   "source": [
    "#Import images and saving to dictionaries\n",
    "image_list = {}\n",
    "for filename in glob.glob(\"cv_school_test/images/*.png\"):\n",
    "    im=Image.open(filename)\n",
    "    image_list[filename.split('/')[2].split('.')[0]]=im"
   ]
  },
  {
   "cell_type": "code",
   "execution_count": null,
   "metadata": {
    "collapsed": true
   },
   "outputs": [],
   "source": [
    "#Import size for crop and saving to dictionaries\n",
    "image_size = {}\n",
    "\n",
    "for filename in glob.glob('cv_school_test/annotations/*.txt'):\n",
    "    size=open(filename).read().split('\\r\\n')\n",
    "    image_size[filename.split('/')[2].split('.')[0]]=size"
   ]
  },
  {
   "cell_type": "code",
   "execution_count": null,
   "metadata": {
    "collapsed": true
   },
   "outputs": [],
   "source": [
    "# fuction for cropping\n",
    "\n",
    "def c_pic(name,image,size):\n",
    "    for i in range(len(size)):\n",
    "        k=image.size\n",
    "        s=size[i].split(',')\n",
    "        area=(int(s[0]),int(s[1]),int(s[2]),int(s[3]))\n",
    "        if int(s[0])<=k[0] and int(s[2])<=k[0] and int(s[1])<=k[1]and int(s[3])<=[1]:\n",
    "            img=image.crop(area)\n",
    "        # forlder creation    \n",
    "            try: \n",
    "                os.makedirs('cv_school_test/fragments/')\n",
    "            except OSError:\n",
    "                if not os.path.isdir('cv_school_test/fragments/'):\n",
    "                    raise\n",
    "            img.save('cv_school_test/fragments/'+name+'_'+str(i)+'.png')\n",
    "        else:\n",
    "            print 'Check coordinates'"
   ]
  },
  {
   "cell_type": "code",
   "execution_count": null,
   "metadata": {
    "collapsed": true
   },
   "outputs": [],
   "source": [
    "for name in image_list.keys():\n",
    "    c_pic(name,image_list[name],image_size[name])"
   ]
  },
  {
   "cell_type": "markdown",
   "metadata": {},
   "source": [
    "## The additional task 2"
   ]
  },
  {
   "cell_type": "code",
   "execution_count": 21,
   "metadata": {
    "collapsed": true
   },
   "outputs": [],
   "source": [
    "# fucntion for greyscale\n",
    "\n",
    "def grey(name,image):\n",
    "    img=image.convert('L')\n",
    "    try:\n",
    "        os.makedirs('cv_school_test/fragments_greyscale/')\n",
    "    except OSError:\n",
    "        if not os.path.isdir('cv_school_test/fragments_greyscale/'):\n",
    "            raise\n",
    "    img.save('cv_school_test/fragments_greyscale/'+name+'_grey'+'.png')"
   ]
  },
  {
   "cell_type": "code",
   "execution_count": 22,
   "metadata": {
    "collapsed": true
   },
   "outputs": [],
   "source": [
    "#Import fragments and saving to dictionaries\n",
    "image_list_frag = {}\n",
    "\n",
    "for filename in glob.glob('cv_school_test/fragments/*.png'):\n",
    "    im=Image.open(filename)\n",
    "    image_list_frag[filename.split('/')[2].split('.')[0]]=im\n"
   ]
  },
  {
   "cell_type": "code",
   "execution_count": 23,
   "metadata": {
    "collapsed": true
   },
   "outputs": [],
   "source": [
    "for name in image_list_frag.keys():\n",
    "    grey(name,image_list_frag[name])"
   ]
  },
  {
   "cell_type": "markdown",
   "metadata": {},
   "source": [
    "## The additional task 3"
   ]
  },
  {
   "cell_type": "code",
   "execution_count": 24,
   "metadata": {
    "collapsed": true
   },
   "outputs": [],
   "source": [
    "#function for flip\n",
    "\n",
    "def flip_img(name,image):\n",
    "    try:\n",
    "        os.makedirs('cv_school_test/fragments_flip/')\n",
    "    except OSError:\n",
    "        if not os.path.isdir('cv_school_test/fragments_flip/'):\n",
    "            raise\n",
    "    ImageOps.mirror(image).save('cv_school_test/fragments_flip/'+name+'_flip'+'.png')"
   ]
  },
  {
   "cell_type": "code",
   "execution_count": 25,
   "metadata": {
    "collapsed": true
   },
   "outputs": [],
   "source": [
    "for name in image_list_frag.keys():\n",
    "    flip_img(name,image_list_frag[name])"
   ]
  },
  {
   "cell_type": "markdown",
   "metadata": {},
   "source": [
    "## The additional task 4"
   ]
  },
  {
   "cell_type": "code",
   "execution_count": 26,
   "metadata": {
    "collapsed": true
   },
   "outputs": [],
   "source": [
    "#function for normalization\n",
    "\n",
    "def norm_img(name,image):\n",
    "    try:\n",
    "        os.makedirs('cv_school_test/fragments_greyscale_norm/')\n",
    "    except OSError:\n",
    "        if not os.path.isdir('cv_school_test/fragments_greyscale_norm/'):\n",
    "            raise\n",
    "    ImageOps.autocontrast(image).save('cv_school_test/fragments_greyscale_norm/'+name+'_norm'+'.png')"
   ]
  },
  {
   "cell_type": "code",
   "execution_count": 27,
   "metadata": {
    "collapsed": true
   },
   "outputs": [],
   "source": [
    "#Import grey fragments and saving to dictionaries\n",
    "image_list_grey = {}\n",
    "\n",
    "for filename in glob.glob('cv_school_test/fragments_greyscale/*.png'):\n",
    "    im=Image.open(filename)\n",
    "    image_list_grey[filename.split('/')[2].split('.')[0]]=im"
   ]
  },
  {
   "cell_type": "code",
   "execution_count": 28,
   "metadata": {
    "collapsed": true
   },
   "outputs": [],
   "source": [
    "for name in image_list_grey.keys():\n",
    "    norm_img(name,image_list_grey[name])"
   ]
  },
  {
   "cell_type": "markdown",
   "metadata": {},
   "source": [
    "## The additional task 5"
   ]
  },
  {
   "cell_type": "code",
   "execution_count": 29,
   "metadata": {
    "collapsed": true
   },
   "outputs": [],
   "source": [
    "# function for adding noise\n",
    "\n",
    "def img_noise(name,image):\n",
    "    draw = ImageDraw.Draw(image)\n",
    "    k=image.size\n",
    "    pix = image.load()\n",
    "    for i in range(k[0]):\n",
    "        for j in range(k[1]):\n",
    "            rand = random.gauss(4,10)\n",
    "            r = int(pix[i, j][0]+rand)\n",
    "            g = int(pix[i, j][1]+rand)\n",
    "            b = int(pix[i, j][2]+rand)\n",
    "            if (r < 0):\n",
    "                r = 0\n",
    "            if (g < 0):\n",
    "                g = 0\n",
    "            if (b < 0):\n",
    "                b = 0\n",
    "            if (r > 255):\n",
    "                r = 255\n",
    "            if (g > 255):\n",
    "                g = 255\n",
    "            if (b > 255):\n",
    "                b = 255\n",
    "            draw.point((i, j), (r, g, b))\n",
    "    try:\n",
    "        os.makedirs('cv_school_test/fragments_noise/')\n",
    "    except OSError:\n",
    "        if not os.path.isdir('cv_school_test/fragments_noise/'):\n",
    "            raise\n",
    "    ImageOps.autocontrast(image).save('cv_school_test/fragments_noise/'+name+'_noise'+'.png')"
   ]
  },
  {
   "cell_type": "code",
   "execution_count": 30,
   "metadata": {
    "collapsed": true
   },
   "outputs": [],
   "source": [
    "#Import fragments and saving to dictionaries.\n",
    "\n",
    "#path for keeping settings of source fragment. If you repeat def img_noise without this path noise will add.\n",
    "image_list_frag = {}\n",
    "\n",
    "for filename in glob.glob('cv_school_test/fragments/*.png'):\n",
    "    im=Image.open(filename)\n",
    "    image_list_frag[filename.split('/')[2].split('.')[0]]=im\n",
    "\n",
    "#Main part for adding noise\n",
    "for name in image_list_frag.keys():\n",
    "    img_noise(name,image_list_frag[name])"
   ]
  },
  {
   "cell_type": "code",
   "execution_count": null,
   "metadata": {
    "collapsed": true
   },
   "outputs": [],
   "source": []
  },
  {
   "cell_type": "code",
   "execution_count": null,
   "metadata": {
    "collapsed": true
   },
   "outputs": [],
   "source": []
  }
 ],
 "metadata": {
  "kernelspec": {
   "display_name": "Python 2",
   "language": "python",
   "name": "python2"
  },
  "language_info": {
   "codemirror_mode": {
    "name": "ipython",
    "version": 2
   },
   "file_extension": ".py",
   "mimetype": "text/x-python",
   "name": "python",
   "nbconvert_exporter": "python",
   "pygments_lexer": "ipython2",
   "version": "2.7.13"
  }
 },
 "nbformat": 4,
 "nbformat_minor": 1
}
